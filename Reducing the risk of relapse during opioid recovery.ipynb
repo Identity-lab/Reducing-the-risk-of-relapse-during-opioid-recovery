{
 "cells": [
  {
   "cell_type": "markdown",
   "id": "3cbfbf03",
   "metadata": {},
   "source": [
    "#### Here is the step-by-step R code for the analysis in paper 'Reducing the risk of relapse during opioid recovery: Longitudinal effects of substance-use, recovery, and non-using online communities'."
   ]
  },
  {
   "cell_type": "code",
   "execution_count": 1,
   "id": "123903ae",
   "metadata": {},
   "outputs": [],
   "source": [
    "# loading the survival analysis library\n",
    "library('survival')"
   ]
  },
  {
   "cell_type": "code",
   "execution_count": 2,
   "id": "eebf8de0",
   "metadata": {},
   "outputs": [],
   "source": [
    "# reading the data file\n",
    "\n",
    "datafile = './table_episodic.csv'\n",
    "df <- read.csv(datafile)"
   ]
  },
  {
   "cell_type": "code",
   "execution_count": 3,
   "id": "002d6cf1",
   "metadata": {},
   "outputs": [
    {
     "name": "stdout",
     "output_type": "stream",
     "text": [
      "total number of participants: 457\n",
      "number of participants in Relapse cohort: 219\n",
      "number of participants in Non-relapse cohort: 238"
     ]
    }
   ],
   "source": [
    "# total number of participants\n",
    "\n",
    "cat(\"total number of participants:\", length(unique(df$user_id)))\n",
    "\n",
    "# number of participants in Relapse cohort\n",
    "relapsed_users <- subset(df, event==1)\n",
    "cat(\"\\nnumber of participants in Relapse cohort:\", length(unique(relapsed_users$user_id)))\n",
    "\n",
    "\n",
    "# number of participants in Non-relapse cohort\n",
    "`%notin%` <- Negate(`%in%`)\n",
    "recovered_users <- df[df$user_id %notin% relapsed_users$user_id,]\n",
    "cat(\"\\nnumber of participants in Non-relapse cohort:\", length(unique(recovered_users$user_id)))"
   ]
  },
  {
   "cell_type": "markdown",
   "id": "4ce1aa83",
   "metadata": {},
   "source": [
    "#### Effects of the absolute number of memberships in recovery, non-using, and substance use online forums, respectively, on risk of relapse. "
   ]
  },
  {
   "cell_type": "code",
   "execution_count": 4,
   "id": "84930c1a",
   "metadata": {},
   "outputs": [
    {
     "data": {
      "text/plain": [
       "Call:\n",
       "coxph(formula = Surv(start, stop, event) ~ addiction_subrds + \n",
       "    addiction_posts + cluster(user_id), data = df)\n",
       "\n",
       "                      coef exp(coef)  se(coef) robust se      z       p\n",
       "addiction_subrds -0.220088  0.802448  0.069498  0.072374 -3.041 0.00236\n",
       "addiction_posts   0.002006  1.002008  0.001954  0.001331  1.508 0.13164\n",
       "\n",
       "Likelihood ratio test=15.3  on 2 df, p=0.0004762\n",
       "n= 1914, number of events= 219 "
      ]
     },
     "metadata": {},
     "output_type": "display_data"
    }
   ],
   "source": [
    "# Effects of the absolute number of memberships in substance use online forums on risk of relapse. \n",
    "fit.tdc <- coxph(Surv(start,stop,event)~ addiction_subrds + addiction_posts + cluster(user_id),df)\n",
    "fit.tdc"
   ]
  },
  {
   "cell_type": "code",
   "execution_count": 5,
   "id": "afc73568",
   "metadata": {},
   "outputs": [
    {
     "data": {
      "text/plain": [
       "Call:\n",
       "coxph(formula = Surv(start, stop, event) ~ recovery_subrds + \n",
       "    recovery_posts + cluster(user_id), data = df)\n",
       "\n",
       "                      coef  exp(coef)   se(coef)  robust se      z       p\n",
       "recovery_subrds -0.2006875  0.8181681  0.0752296  0.0772121 -2.599 0.00934\n",
       "recovery_posts   0.0016838  1.0016852  0.0008358  0.0008305  2.028 0.04261\n",
       "\n",
       "Likelihood ratio test=8.18  on 2 df, p=0.01676\n",
       "n= 1914, number of events= 219 "
      ]
     },
     "metadata": {},
     "output_type": "display_data"
    }
   ],
   "source": [
    "# Effects of the absolute number of memberships in recovery online forums on risk of relapse. \n",
    "fit.tdc <- coxph(Surv(start,stop,event)~ recovery_subrds + recovery_posts + cluster(user_id),df)\n",
    "fit.tdc"
   ]
  },
  {
   "cell_type": "code",
   "execution_count": 6,
   "id": "3997aae0",
   "metadata": {},
   "outputs": [
    {
     "data": {
      "text/plain": [
       "Call:\n",
       "coxph(formula = Surv(start, stop, event) ~ other_subrds + other_posts + \n",
       "    cluster(user_id), data = df)\n",
       "\n",
       "                   coef  exp(coef)   se(coef)  robust se      z        p\n",
       "other_subrds -0.0514035  0.9498953  0.0075429  0.0078566 -6.543 6.04e-11\n",
       "other_posts   0.0004009  1.0004010  0.0002307  0.0001414  2.836  0.00457\n",
       "\n",
       "Likelihood ratio test=107.2  on 2 df, p=< 2.2e-16\n",
       "n= 1914, number of events= 219 "
      ]
     },
     "metadata": {},
     "output_type": "display_data"
    }
   ],
   "source": [
    "# Effects of the absolute number of memberships in non-using online forums on risk of relapse. \n",
    "fit.tdc <- coxph(Surv(start,stop,event)~ other_subrds + other_posts + cluster(user_id),df)\n",
    "fit.tdc"
   ]
  },
  {
   "cell_type": "code",
   "execution_count": 7,
   "id": "2e44013e",
   "metadata": {},
   "outputs": [
    {
     "data": {
      "text/plain": [
       "Call:\n",
       "coxph(formula = Surv(start, stop, event) ~ addiction_subrds + \n",
       "    recovery_subrds + other_subrds + total_posts + cluster(user_id), \n",
       "    data = df)\n",
       "\n",
       "                       coef  exp(coef)   se(coef)  robust se      z        p\n",
       "addiction_subrds  0.0759573  1.0789165  0.0555145  0.0492285  1.543  0.12284\n",
       "recovery_subrds   0.0231799  1.0234506  0.0726183  0.0671024  0.345  0.72976\n",
       "other_subrds     -0.0566278  0.9449457  0.0080222  0.0083718 -6.764 1.34e-11\n",
       "total_posts       0.0004471  1.0004472  0.0002141  0.0001382  3.235  0.00122\n",
       "\n",
       "Likelihood ratio test=110.9  on 4 df, p=< 2.2e-16\n",
       "n= 1914, number of events= 219 "
      ]
     },
     "metadata": {},
     "output_type": "display_data"
    }
   ],
   "source": [
    "fit.tdc <- coxph(Surv(start,stop,event)~  addiction_subrds + recovery_subrds + other_subrds + total_posts+ cluster(user_id),df)\n",
    "fit.tdc"
   ]
  },
  {
   "cell_type": "markdown",
   "id": "6f751bdf",
   "metadata": {},
   "source": [
    "#### Effects of the relative number of memberships in recovery, non-using, and sub-stance use online forums, respectively, on risk of relapse."
   ]
  },
  {
   "cell_type": "code",
   "execution_count": 8,
   "id": "f7fe6182",
   "metadata": {},
   "outputs": [],
   "source": [
    "# calculating the realtive membership measures\n",
    "relativemeasure <- function(a, b){\n",
    "   c=(a)/(b)\n",
    "   return(c)\n",
    "}\n",
    "\n",
    "df$addiction_rel <- apply(df[,c('addiction_subrds','total_subrds')], 1, function(x) relativemeasure(x[1],x[2]))\n",
    "df$recovery_rel <- apply(df[,c('recovery_subrds','total_subrds')], 1, function(x) relativemeasure(x[1],x[2]))\n",
    "df$other_rel <- apply(df[,c('other_subrds','total_subrds')], 1, function(x) relativemeasure(x[1],x[2]))"
   ]
  },
  {
   "cell_type": "code",
   "execution_count": 9,
   "id": "2eddee98",
   "metadata": {},
   "outputs": [
    {
     "data": {
      "text/plain": [
       "Call:\n",
       "coxph(formula = Surv(start, stop, event) ~ addiction_rel + addiction_posts + \n",
       "    cluster(user_id), data = df)\n",
       "\n",
       "                     coef exp(coef)  se(coef) robust se      z     p\n",
       "addiction_rel    1.162071  3.196546  0.599299  0.625041  1.859 0.063\n",
       "addiction_posts -0.003531  0.996475  0.002477  0.004042 -0.874 0.382\n",
       "\n",
       "Likelihood ratio test=6.17  on 2 df, p=0.04562\n",
       "n= 1914, number of events= 219 "
      ]
     },
     "metadata": {},
     "output_type": "display_data"
    }
   ],
   "source": [
    "# Effects of the relative number of memberships in sub-stance use online forums on risk of relapse.\n",
    "fit.tdc <- coxph(Surv(start,stop,event)~ addiction_rel + addiction_posts + cluster(user_id),df)\n",
    "fit.tdc"
   ]
  },
  {
   "cell_type": "code",
   "execution_count": 10,
   "id": "3278ac41",
   "metadata": {},
   "outputs": [
    {
     "data": {
      "text/plain": [
       "Call:\n",
       "coxph(formula = Surv(start, stop, event) ~ recovery_rel + recovery_posts + \n",
       "    cluster(user_id), data = df)\n",
       "\n",
       "                    coef exp(coef)  se(coef) robust se     z        p\n",
       "recovery_rel   1.6106610 5.0061193 0.1869673 0.1996036 8.069 7.07e-16\n",
       "recovery_posts 0.0009624 1.0009628 0.0008124 0.0009143 1.053    0.293\n",
       "\n",
       "Likelihood ratio test=66.91  on 2 df, p=2.957e-15\n",
       "n= 1914, number of events= 219 "
      ]
     },
     "metadata": {},
     "output_type": "display_data"
    }
   ],
   "source": [
    "# Effects of the relative number of memberships in recovery online forums on risk of relapse.\n",
    "fit.tdc <- coxph(Surv(start,stop,event)~ recovery_rel + recovery_posts + cluster(user_id),df)\n",
    "fit.tdc"
   ]
  },
  {
   "cell_type": "code",
   "execution_count": 11,
   "id": "b48d901f",
   "metadata": {},
   "outputs": [
    {
     "data": {
      "text/plain": [
       "Call:\n",
       "coxph(formula = Surv(start, stop, event) ~ other_rel + other_posts + \n",
       "    cluster(user_id), data = df)\n",
       "\n",
       "                  coef  exp(coef)   se(coef)  robust se      z       p\n",
       "other_rel   -1.3901093  0.2490481  0.2047570  0.2603231 -5.340 9.3e-08\n",
       "other_posts -0.0009866  0.9990139  0.0004072  0.0009572 -1.031   0.303\n",
       "\n",
       "Likelihood ratio test=85.45  on 2 df, p=< 2.2e-16\n",
       "n= 1914, number of events= 219 "
      ]
     },
     "metadata": {},
     "output_type": "display_data"
    }
   ],
   "source": [
    "# Effects of the relative number of memberships in recovery online forums on risk of relapse.\n",
    "fit.tdc <- coxph(Surv(start,stop,event)~ other_rel + other_posts + cluster(user_id),df)\n",
    "fit.tdc"
   ]
  }
 ],
 "metadata": {
  "kernelspec": {
   "display_name": "R",
   "language": "R",
   "name": "ir"
  },
  "language_info": {
   "codemirror_mode": "r",
   "file_extension": ".r",
   "mimetype": "text/x-r-source",
   "name": "R",
   "pygments_lexer": "r",
   "version": "3.6.1"
  }
 },
 "nbformat": 4,
 "nbformat_minor": 5
}
